{
  "nbformat": 4,
  "nbformat_minor": 0,
  "metadata": {
    "colab": {
      "provenance": []
    },
    "kernelspec": {
      "name": "python3",
      "display_name": "Python 3"
    },
    "language_info": {
      "name": "python"
    }
  },
  "cells": [
    {
      "cell_type": "code",
      "execution_count": 1,
      "metadata": {
        "colab": {
          "base_uri": "https://localhost:8080/"
        },
        "id": "XWFymip0_7hd",
        "outputId": "c4f9fee1-8cad-497b-f81e-6b80592b3e04"
      },
      "outputs": [
        {
          "output_type": "stream",
          "name": "stdout",
          "text": [
            "Stride = 1, Padding = 'VALID'\n",
            " [[-4.  2.  4.]\n",
            " [ 0.  0.  0.]\n",
            " [ 0.  2.  1.]]\n",
            "\n",
            "Stride = 1, Padding = 'SAME'\n",
            " [[-3. -4.  0.  3.  3.]\n",
            " [-5. -4.  2.  4.  3.]\n",
            " [-4.  0.  0.  0.  4.]\n",
            " [-5.  0.  2.  1.  3.]\n",
            " [-3.  0.  0.  0.  3.]]\n",
            "\n",
            "Stride = 2, Padding = 'VALID'\n",
            " [[-4.  4.]\n",
            " [ 0.  1.]]\n",
            "\n",
            "Stride = 2, Padding = 'SAME'\n",
            " [[-3.  0.  3.]\n",
            " [-4.  0.  4.]\n",
            " [-3.  0.  3.]]\n"
          ]
        }
      ],
      "source": [
        "import tensorflow as tf\n",
        "import numpy as np\n",
        "\n",
        "# Define the 5x5 input matrix\n",
        "input_matrix = np.array([\n",
        "    [1, 2, 3, 0, 1],\n",
        "    [0, 1, 2, 3, 1],\n",
        "    [1, 2, 1, 0, 0],\n",
        "    [2, 1, 0, 1, 2],\n",
        "    [1, 2, 3, 2, 1]\n",
        "], dtype=np.float32)\n",
        "\n",
        "# Reshape to match TF input shape: [batch, height, width, channels]\n",
        "input_tensor = tf.reshape(input_matrix, [1, 5, 5, 1])\n",
        "\n",
        "# Define the 3x3 kernel\n",
        "kernel = np.array([\n",
        "    [1, 0, -1],\n",
        "    [1, 0, -1],\n",
        "    [1, 0, -1]\n",
        "], dtype=np.float32)\n",
        "\n",
        "# Reshape to match TF kernel shape: [filter_height, filter_width, in_channels, out_channels]\n",
        "kernel_tensor = tf.reshape(kernel, [3, 3, 1, 1])\n",
        "\n",
        "# Function to perform convolution with specified stride and padding\n",
        "def perform_convolution(stride, padding):\n",
        "    return tf.nn.conv2d(input_tensor, kernel_tensor, strides=[1, stride, stride, 1], padding=padding)\n",
        "\n",
        "# Perform convolutions\n",
        "output_valid_1 = perform_convolution(1, 'VALID')\n",
        "output_same_1 = perform_convolution(1, 'SAME')\n",
        "output_valid_2 = perform_convolution(2, 'VALID')\n",
        "output_same_2 = perform_convolution(2, 'SAME')\n",
        "\n",
        "# Print results\n",
        "print(\"Stride = 1, Padding = 'VALID'\\n\", output_valid_1.numpy().squeeze())\n",
        "print(\"\\nStride = 1, Padding = 'SAME'\\n\", output_same_1.numpy().squeeze())\n",
        "print(\"\\nStride = 2, Padding = 'VALID'\\n\", output_valid_2.numpy().squeeze())\n",
        "print(\"\\nStride = 2, Padding = 'SAME'\\n\", output_same_2.numpy().squeeze())\n"
      ]
    }
  ]
}